{
 "cells": [
  {
   "cell_type": "markdown",
   "metadata": {},
   "source": [
    "# Option 1: Crawl news & information websites & anticipate the likelihood of its virality. \n",
    "## By Arpan Ghoshal"
   ]
  },
  {
   "cell_type": "markdown",
   "metadata": {},
   "source": [
    "### My approach is to evaluate similarity between the articles. As the viral news should be spread throught all the news pages, more it is similar, more viral it will be.\n",
    "### My target website is BBC/world and reference is TOI/world. "
   ]
  },
  {
   "cell_type": "code",
   "execution_count": null,
   "metadata": {},
   "outputs": [],
   "source": [
    "import requests\n",
    "from bs4 import BeautifulSoup\n",
    "from newspaper import Article  \n",
    "import csv \n",
    "import pandas as pd\n",
    "import numpy as np"
   ]
  },
  {
   "cell_type": "code",
   "execution_count": 2,
   "metadata": {},
   "outputs": [],
   "source": [
    "response = requests.get('http://www.bbc.co.uk/news/world')\n",
    "doc = BeautifulSoup(response.text, 'html.parser')"
   ]
  },
  {
   "cell_type": "code",
   "execution_count": 4,
   "metadata": {},
   "outputs": [
    {
     "name": "stdout",
     "output_type": "stream",
     "text": [
      "[\"Italy moves to ease Europe's longest lockdown\", \"Italy moves to ease Europe's longest lockdown\", 'Nations relax restrictions as new cases fall', 'Nations relax restrictions as new cases fall', \"Spain's children allowed to run free again\", 'Why world will look to India to make Covid-19 vaccine', \"Chile to introduce controversial 'virus-free' ID\", 'Saudi commission announces change to death penalty', 'Yemen separatists declare self-rule in south', \"Italy moves to ease Europe's longest lockdown\", 'Nations relax restrictions as new cases fall', 'Nations relax restrictions as new cases fall', \"Spain's children allowed to run free again\", 'Why world will look to India to make Covid-19 vaccine', \"Chile to introduce controversial 'virus-free' ID\", 'Saudi commission announces change to death penalty', 'Yemen separatists declare self-rule in south', 'Nations relax restrictions as new cases fall', 'Nations relax restrictions as new cases fall', \"Spain's children allowed to run free again\", 'Why world will look to India to make Covid-19 vaccine', \"Chile to introduce controversial 'virus-free' ID\", 'Saudi commission announces change to death penalty', 'Yemen separatists declare self-rule in south', 'Trump faces scrutiny over West Point address plans', 'Auschwitz survivor Henri Kichka dies of Covid-19', 'French police seize 140,000 black market masks', 'Acclaimed Swedish author Per Olov Enquist dies', \"'We have to use who we are to help others'\", 'Why so much US resistance to lockdown?', \"Rare glimpse into El Salvador's overcrowded prisons\", 'The boy who mastered the snapshot', \"How the 'king' of Swahili writing inspired me\", \"The man trying to stop the virus (and fix China's image)\", \"Refugees 'forced to drink sea water to stay alive'\", 'Surviving an Everest avalanche', \"'Be a couch potato, save the world'\", 'Saving Eden in Colombia', 'Can these robot roommates liven up lockdown?', \"The 'social bubble' approach to lockdown easing\", 'A visual guide to the economic impact', \"India's circuses struggle to survive the lockdown\", 'Why do African states differ over lockdowns?', 'China and US trade virus conspiracy theories', 'Saudi commission announces change to death penalty', 'Why world will look to India to make Covid-19 vaccine', 'Where social distancing is impossible', \"How the 'king' of Swahili writing inspired me\", \"Family 'helpless' after father's coronavirus death\", 'Coronavirus: A visual guide to the economic impact', \"Italy moves to ease Europe's longest lockdown\", 'Why so much US resistance to the lockdown?', \"Chile to introduce controversial 'virus-free' ID\", 'Spain records lowest daily death toll in a month', 'How to pandemic-proof a city', 'Could coronavirus redefine heroism?', 'In China, finding hope amid coronavirus', 'The bizarre story of the fake Beatles', 'How much of your body is actually you?', 'The truth about eating eggs', 'Can you social distance on a plane?', 'News daily newsletter', 'Mobile app', 'Get in touch']\n"
     ]
    }
   ],
   "source": [
    "bbc_list=[]\n",
    "headlines = doc.find_all('h3')\n",
    "\n",
    "for headline in headlines:\n",
    "    bbc_list.append(headline.text)\n",
    "print(bbc_list)"
   ]
  },
  {
   "cell_type": "code",
   "execution_count": 7,
   "metadata": {},
   "outputs": [],
   "source": [
    "r = requests.get(\"https://timesofindia.indiatimes.com/world\")\n",
    "soup = BeautifulSoup(r.content, 'html5lib') \n",
    "table = soup.findAll('a', attrs = {'class':'w_img'}) \n",
    "news=[]\n",
    "for row in table: \n",
    "    if not row['href'].startswith('http'):\n",
    "        news.append('https://timesofindia.indiatimes.com'+row['href'])\n",
    "dfnakli=[]\n",
    "for i in news:\n",
    "    article = Article(i, language=\"en\")\n",
    "    article.download() \n",
    "    article.parse() \n",
    "    article.nlp() \n",
    "    data={}\n",
    "    data['Title']=article.title\n",
    "    dfnakli.append(data)"
   ]
  },
  {
   "cell_type": "code",
   "execution_count": 13,
   "metadata": {},
   "outputs": [
    {
     "data": {
      "text/plain": [
       "['Saudi Arabia ends death penalty for minors and floggings',\n",
       " 'Covid-19: Lockdown reveals fresh and clean air in India',\n",
       " \"Iran's Guard says it launched satellite\",\n",
       " 'Covid-19: Virus shutdown shows human impact on Earth',\n",
       " 'San Francisco: Dog stolen in December has joyous reunion with owner',\n",
       " 'Crude Oil prices drop to historic lows after extreme collapse in demand',\n",
       " 'Covid-19: Los Angeles study indicates higher infection rate',\n",
       " \"Covid-19: President Trump says 'politics' is behind testing criticism\",\n",
       " 'Covid-19: Cemetery races to keep up as New York deaths mount',\n",
       " \"Texans visit state parks in governor’s 'reopening'\",\n",
       " 'Covid-19: Protest in favour of easing lockdown in US',\n",
       " 'Amid virus crisis, heart and stroke patients go missing',\n",
       " 'coronavirus: Pak denies preparing vaccine for COVID-19; cases cross 12,000',\n",
       " 'Bangladesh garment factories reopen, defying virus lockdown',\n",
       " 'Covid-19: Kolkata woman in Oxford University vaccine project team',\n",
       " 'As virus lockdown eases, Italy ponders what went wrong',\n",
       " \"Beijing's aggressive South China Sea push amid pandemic worries India, US\",\n",
       " 'Saudi Arabia ends death penalty for minors and floggings',\n",
       " 'Millions of children at risk with immunisation services disrupted amid Covid-19 pandemic',\n",
       " 'Man tries to smuggle girlfriend in car trunk during lockdown',\n",
       " 'Indian-American lawyer Seema Nanda to step down as CEO of Democratic Party',\n",
       " 'Indian-American woman elected to American Academy of Arts and Sciences',\n",
       " 'Coronavirus: Indian-American NGO raises $1 million for relief work in US, India',\n",
       " 'Indian-origin doctor honoured for her services in fighting Coronavirus in US',\n",
       " 'Indian-origin man charged with coronavirus related offences in Singapore',\n",
       " \"Indian-origin Nobel laureate Venki Ramakrishnan in UK's Covid-19 expert group\",\n",
       " 'Indian-American Congressman Ro Khanna in White House coronavirus advisory council',\n",
       " '3 Indian expats in UAE win $5 million jackpot',\n",
       " 'Covid-19: PM Narendra Modi addresses the nation with ‘Mann Ki Baat’',\n",
       " 'Sara Ali Khan shares post workout photo with brother Ibrahim Ali Khan',\n",
       " \"Coronavirus lockdown: Bat enters Amitabh Bachchan's Jalsa residence in Mumbai, actor shares details\",\n",
       " 'Make Covid-19 test kits available to public at lowest possible price: Delhi HC',\n",
       " 'Cured journalist gets a grand welcome in Mumbai']"
      ]
     },
     "execution_count": 13,
     "metadata": {},
     "output_type": "execute_result"
    }
   ],
   "source": [
    "dataset=pd.DataFrame(dfnakli)\n",
    "title = dataset[\"Title\"].values\n",
    "toi_list=title.tolist()\n",
    "toi_list"
   ]
  },
  {
   "cell_type": "code",
   "execution_count": 14,
   "metadata": {},
   "outputs": [],
   "source": [
    "import nltk, string\n",
    "from sklearn.feature_extraction.text import TfidfVectorizer\n",
    "\n",
    "\n",
    "stemmer = nltk.stem.porter.PorterStemmer()\n",
    "remove_punctuation_map = dict((ord(char), None) for char in string.punctuation)\n",
    "\n",
    "def stem_tokens(tokens):\n",
    "    return [stemmer.stem(item) for item in tokens]\n",
    "\n",
    "def normalize(text):\n",
    "    return stem_tokens(nltk.word_tokenize(text.lower().translate(remove_punctuation_map)))\n",
    "\n",
    "vectorizer = TfidfVectorizer(tokenizer=normalize, stop_words='english')\n",
    "\n",
    "def cosine_sim(text1, text2):\n",
    "    tfidf = vectorizer.fit_transform([text1, text2])\n",
    "    return ((tfidf * tfidf.T).A)[0,1]"
   ]
  },
  {
   "cell_type": "code",
   "execution_count": 31,
   "metadata": {},
   "outputs": [
    {
     "name": "stdout",
     "output_type": "stream",
     "text": [
      "\n"
     ]
    }
   ],
   "source": [
    "stem_tokens(bbc_list)\n",
    "stem_tokens(toi_list)"
   ]
  },
  {
   "cell_type": "code",
   "execution_count": 20,
   "metadata": {},
   "outputs": [],
   "source": [
    "dic1={}\n",
    "n=0\n",
    "for i in range(len(bbc_list)):\n",
    "    for j in range(len(toi_list)):\n",
    "        dic1[(cosine_sim(bbc_list[i-1],toi_list[j-1]))]=bbc_list[i-1]"
   ]
  },
  {
   "cell_type": "code",
   "execution_count": 22,
   "metadata": {},
   "outputs": [],
   "source": [
    "df = pd.DataFrame(list(dic1.items()),columns = ['Similarity','News']) "
   ]
  },
  {
   "cell_type": "code",
   "execution_count": 26,
   "metadata": {},
   "outputs": [],
   "source": [
    "df=df.groupby(['News']).mean()"
   ]
  },
  {
   "cell_type": "code",
   "execution_count": 29,
   "metadata": {},
   "outputs": [
    {
     "data": {
      "text/html": [
       "<div>\n",
       "<style scoped>\n",
       "    .dataframe tbody tr th:only-of-type {\n",
       "        vertical-align: middle;\n",
       "    }\n",
       "\n",
       "    .dataframe tbody tr th {\n",
       "        vertical-align: top;\n",
       "    }\n",
       "\n",
       "    .dataframe thead th {\n",
       "        text-align: right;\n",
       "    }\n",
       "</style>\n",
       "<table border=\"1\" class=\"dataframe\">\n",
       "  <thead>\n",
       "    <tr style=\"text-align: right;\">\n",
       "      <th></th>\n",
       "      <th>Similarity</th>\n",
       "    </tr>\n",
       "    <tr>\n",
       "      <th>News</th>\n",
       "      <th></th>\n",
       "    </tr>\n",
       "  </thead>\n",
       "  <tbody>\n",
       "    <tr>\n",
       "      <th>Saudi commission announces change to death penalty</th>\n",
       "      <td>0.304126</td>\n",
       "    </tr>\n",
       "    <tr>\n",
       "      <th>India's circuses struggle to survive the lockdown</th>\n",
       "      <td>0.206137</td>\n",
       "    </tr>\n",
       "    <tr>\n",
       "      <th>Italy moves to ease Europe's longest lockdown</th>\n",
       "      <td>0.170218</td>\n",
       "    </tr>\n",
       "    <tr>\n",
       "      <th>Why so much US resistance to the lockdown?</th>\n",
       "      <td>0.133679</td>\n",
       "    </tr>\n",
       "    <tr>\n",
       "      <th>In China, finding hope amid coronavirus</th>\n",
       "      <td>0.118326</td>\n",
       "    </tr>\n",
       "    <tr>\n",
       "      <th>Could coronavirus redefine heroism?</th>\n",
       "      <td>0.117486</td>\n",
       "    </tr>\n",
       "    <tr>\n",
       "      <th>Can these robot roommates liven up lockdown?</th>\n",
       "      <td>0.113020</td>\n",
       "    </tr>\n",
       "    <tr>\n",
       "      <th>Why do African states differ over lockdowns?</th>\n",
       "      <td>0.112343</td>\n",
       "    </tr>\n",
       "    <tr>\n",
       "      <th>Why world will look to India to make Covid-19 vaccine</th>\n",
       "      <td>0.111267</td>\n",
       "    </tr>\n",
       "    <tr>\n",
       "      <th>Coronavirus: A visual guide to the economic impact</th>\n",
       "      <td>0.091699</td>\n",
       "    </tr>\n",
       "    <tr>\n",
       "      <th>Family 'helpless' after father's coronavirus death</th>\n",
       "      <td>0.087617</td>\n",
       "    </tr>\n",
       "    <tr>\n",
       "      <th>The 'social bubble' approach to lockdown easing</th>\n",
       "      <td>0.087044</td>\n",
       "    </tr>\n",
       "    <tr>\n",
       "      <th>Auschwitz survivor Henri Kichka dies of Covid-19</th>\n",
       "      <td>0.077804</td>\n",
       "    </tr>\n",
       "    <tr>\n",
       "      <th>China and US trade virus conspiracy theories</th>\n",
       "      <td>0.077348</td>\n",
       "    </tr>\n",
       "    <tr>\n",
       "      <th>Spain records lowest daily death toll in a month</th>\n",
       "      <td>0.069520</td>\n",
       "    </tr>\n",
       "    <tr>\n",
       "      <th>Mobile app</th>\n",
       "      <td>0.000000</td>\n",
       "    </tr>\n",
       "  </tbody>\n",
       "</table>\n",
       "</div>"
      ],
      "text/plain": [
       "                                                    Similarity\n",
       "News                                                          \n",
       "Saudi commission announces change to death penalty    0.304126\n",
       "India's circuses struggle to survive the lockdown     0.206137\n",
       "Italy moves to ease Europe's longest lockdown         0.170218\n",
       "Why so much US resistance to the lockdown?            0.133679\n",
       "In China, finding hope amid coronavirus               0.118326\n",
       "Could coronavirus redefine heroism?                   0.117486\n",
       "Can these robot roommates liven up lockdown?          0.113020\n",
       "Why do African states differ over lockdowns?          0.112343\n",
       "Why world will look to India to make Covid-19 v...    0.111267\n",
       "Coronavirus: A visual guide to the economic impact    0.091699\n",
       "Family 'helpless' after father's coronavirus death    0.087617\n",
       "The 'social bubble' approach to lockdown easing       0.087044\n",
       "Auschwitz survivor Henri Kichka dies of Covid-19      0.077804\n",
       "China and US trade virus conspiracy theories          0.077348\n",
       "Spain records lowest daily death toll in a month      0.069520\n",
       "Mobile app                                            0.000000"
      ]
     },
     "execution_count": 29,
     "metadata": {},
     "output_type": "execute_result"
    }
   ],
   "source": [
    "Final = df.sort_values(['Similarity'], ascending=[False])\n",
    "Final"
   ]
  },
  {
   "cell_type": "markdown",
   "metadata": {},
   "source": [
    "### As seen the most similar are most likely to be viral"
   ]
  },
  {
   "cell_type": "code",
   "execution_count": null,
   "metadata": {},
   "outputs": [],
   "source": []
  }
 ],
 "metadata": {
  "kernelspec": {
   "display_name": "Python 3",
   "language": "python",
   "name": "python3"
  },
  "language_info": {
   "codemirror_mode": {
    "name": "ipython",
    "version": 3
   },
   "file_extension": ".py",
   "mimetype": "text/x-python",
   "name": "python",
   "nbconvert_exporter": "python",
   "pygments_lexer": "ipython3",
   "version": "3.7.3"
  }
 },
 "nbformat": 4,
 "nbformat_minor": 2
}
